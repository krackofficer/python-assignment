{
 "cells": [
  {
   "cell_type": "code",
   "execution_count": null,
   "id": "b516d363-0d58-4ce7-b688-3773830be6cf",
   "metadata": {},
   "outputs": [],
   "source": [
    "#read this dataset"
   ]
  },
  {
   "cell_type": "code",
   "execution_count": null,
   "id": "7460ddd7-d4b5-4b09-8911-504243640ba1",
   "metadata": {},
   "outputs": [],
   "source": [
    "#Explain the key features of Python that make it a popular choice for programming.\n",
    "\n",
    "\n",
    "##code to makwe a dist plot"
   ]
  },
  {
   "cell_type": "code",
   "execution_count": null,
   "id": "4430c65e-99fb-4106-9beb-58332fed356e",
   "metadata": {},
   "outputs": [],
   "source": [
    "#Describe the role of predefined keywords in Python and provide examples of how they are used in a program.\n",
    "\n",
    "#code\n",
    "#code\n",
    "\n",
    "\n",
    "\n",
    "#insights\n",
    "\n"
   ]
  },
  {
   "cell_type": "code",
   "execution_count": null,
   "id": "532c9881-f48f-4982-957f-f655cb506d13",
   "metadata": {},
   "outputs": [],
   "source": []
  },
  {
   "cell_type": "code",
   "execution_count": null,
   "id": "f9303fcd-a3d3-4abc-8e77-45b8dd3880e5",
   "metadata": {},
   "outputs": [],
   "source": []
  },
  {
   "cell_type": "code",
   "execution_count": null,
   "id": "ed0688f5-665a-470f-9ef4-6cef5cdf2d8e",
   "metadata": {},
   "outputs": [],
   "source": []
  },
  {
   "cell_type": "code",
   "execution_count": null,
   "id": "2a5d7d1a-88c0-4f4f-96e4-0929d8e52030",
   "metadata": {},
   "outputs": [],
   "source": []
  }
 ],
 "metadata": {
  "kernelspec": {
   "display_name": "Python 3 (ipykernel)",
   "language": "python",
   "name": "python3"
  },
  "language_info": {
   "codemirror_mode": {
    "name": "ipython",
    "version": 3
   },
   "file_extension": ".py",
   "mimetype": "text/x-python",
   "name": "python",
   "nbconvert_exporter": "python",
   "pygments_lexer": "ipython3",
   "version": "3.10.8"
  }
 },
 "nbformat": 4,
 "nbformat_minor": 5
}
